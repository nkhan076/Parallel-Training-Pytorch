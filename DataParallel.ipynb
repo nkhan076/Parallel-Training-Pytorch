{
 "cells": [
  {
   "cell_type": "code",
   "execution_count": 1,
   "id": "2e4b4a43",
   "metadata": {
    "ExecuteTime": {
     "end_time": "2022-08-30T21:14:23.927632Z",
     "start_time": "2022-08-30T21:14:22.746993Z"
    }
   },
   "outputs": [
    {
     "name": "stdout",
     "output_type": "stream",
     "text": [
      "1.9.0.dev20210520+cu102\n"
     ]
    }
   ],
   "source": [
    "import torch\n",
    "print(torch.__version__)"
   ]
  },
  {
   "cell_type": "code",
   "execution_count": 2,
   "id": "3f6fd521",
   "metadata": {
    "ExecuteTime": {
     "end_time": "2022-08-30T21:14:42.954562Z",
     "start_time": "2022-08-30T21:14:42.936382Z"
    }
   },
   "outputs": [
    {
     "data": {
      "text/plain": [
       "<function torch.cuda.is_available() -> bool>"
      ]
     },
     "execution_count": 2,
     "metadata": {},
     "output_type": "execute_result"
    }
   ],
   "source": [
    "torch.cuda.is_available\n",
    "\n",
    "torch.cuda.device_count()\n",
    "\n",
    "torch.cuda.current_device()"
   ]
  },
  {
   "cell_type": "code",
   "execution_count": null,
   "id": "59acf239",
   "metadata": {},
   "outputs": [],
   "source": [
    "#############################################################################"
   ]
  },
  {
   "cell_type": "code",
   "execution_count": 6,
   "id": "02461991",
   "metadata": {
    "ExecuteTime": {
     "end_time": "2022-08-30T21:16:55.377599Z",
     "start_time": "2022-08-30T21:16:55.371884Z"
    }
   },
   "outputs": [],
   "source": [
    "import torch\n",
    "import torch.nn as nn\n",
    "from torch.utils.data import Dataset, DataLoader"
   ]
  },
  {
   "cell_type": "code",
   "execution_count": 7,
   "id": "7568ee64",
   "metadata": {
    "ExecuteTime": {
     "end_time": "2022-08-30T21:16:56.289473Z",
     "start_time": "2022-08-30T21:16:56.284064Z"
    }
   },
   "outputs": [],
   "source": [
    "# Parameters and DataLoaders\n",
    "input_size = 5\n",
    "output_size = 2\n",
    "\n",
    "batch_size = 30\n",
    "data_size = 100"
   ]
  },
  {
   "cell_type": "code",
   "execution_count": 12,
   "id": "dfeb85ab",
   "metadata": {
    "ExecuteTime": {
     "end_time": "2022-08-30T21:18:25.415687Z",
     "start_time": "2022-08-30T21:18:25.411348Z"
    }
   },
   "outputs": [],
   "source": [
    "device = torch.device(\"cuda:0\" if torch.cuda.is_available() else \"cpu\")"
   ]
  },
  {
   "cell_type": "code",
   "execution_count": 8,
   "id": "dbf54ee0",
   "metadata": {
    "ExecuteTime": {
     "end_time": "2022-08-30T21:17:10.683579Z",
     "start_time": "2022-08-30T21:17:10.673863Z"
    }
   },
   "outputs": [],
   "source": [
    "\n",
    "class RandomDataset(Dataset):\n",
    "\n",
    "    def __init__(self, size, length):\n",
    "        self.len = length\n",
    "        self.data = torch.randn(length, size)\n",
    "\n",
    "    def __getitem__(self, index):\n",
    "        return self.data[index]\n",
    "\n",
    "    def __len__(self):\n",
    "        return self.len"
   ]
  },
  {
   "cell_type": "code",
   "execution_count": 9,
   "id": "02df56c3",
   "metadata": {
    "ExecuteTime": {
     "end_time": "2022-08-30T21:17:22.393478Z",
     "start_time": "2022-08-30T21:17:22.346697Z"
    }
   },
   "outputs": [],
   "source": [
    "\n",
    "rand_loader = DataLoader(dataset=RandomDataset(input_size, data_size), #(100, 5)\n",
    "                         batch_size=batch_size, shuffle=True)"
   ]
  },
  {
   "cell_type": "code",
   "execution_count": 10,
   "id": "c1c43840",
   "metadata": {
    "ExecuteTime": {
     "end_time": "2022-08-30T21:17:35.384603Z",
     "start_time": "2022-08-30T21:17:35.373623Z"
    }
   },
   "outputs": [],
   "source": [
    "class Model(nn.Module):\n",
    "    # Our model\n",
    "\n",
    "    def __init__(self, input_size, output_size):\n",
    "        super(Model, self).__init__()\n",
    "        self.fc = nn.Linear(input_size, output_size)\n",
    "\n",
    "    def forward(self, input):\n",
    "        output = self.fc(input)\n",
    "        print(\"\\tIn Model: input size\", input.size(),\n",
    "              \"output size\", output.size())\n",
    "\n",
    "        return output"
   ]
  },
  {
   "cell_type": "code",
   "execution_count": 13,
   "id": "4132fe04",
   "metadata": {
    "ExecuteTime": {
     "end_time": "2022-08-30T21:18:34.021093Z",
     "start_time": "2022-08-30T21:18:30.287671Z"
    }
   },
   "outputs": [
    {
     "name": "stdout",
     "output_type": "stream",
     "text": [
      "Let's use 3 GPUs!\n"
     ]
    },
    {
     "data": {
      "text/plain": [
       "DataParallel(\n",
       "  (module): Model(\n",
       "    (fc): Linear(in_features=5, out_features=2, bias=True)\n",
       "  )\n",
       ")"
      ]
     },
     "execution_count": 13,
     "metadata": {},
     "output_type": "execute_result"
    }
   ],
   "source": [
    "model = Model(input_size, output_size)\n",
    "if torch.cuda.device_count() > 1:\n",
    "    print(\"Let's use\", torch.cuda.device_count(), \"GPUs!\")\n",
    "  # dim = 0 [30, xxx] -> [10, ...], [10, ...], [10, ...] on 3 GPUs\n",
    "    model = nn.DataParallel(model)\n",
    "\n",
    "model.to(device)"
   ]
  },
  {
   "cell_type": "code",
   "execution_count": 14,
   "id": "e17cb94a",
   "metadata": {
    "ExecuteTime": {
     "end_time": "2022-08-30T21:19:10.120318Z",
     "start_time": "2022-08-30T21:19:06.528807Z"
    }
   },
   "outputs": [
    {
     "name": "stdout",
     "output_type": "stream",
     "text": [
      "\tIn Model: input size torch.Size([10, 5]) output size torch.Size([10, 2])\n",
      "\tIn Model: input size torch.Size([10, 5]) output size torch.Size([10, 2])\n",
      "\tIn Model: input size torch.Size([10, 5]) output size torch.Size([10, 2])\n",
      "Outside: input size torch.Size([30, 5]) output_size torch.Size([30, 2])\n",
      "\tIn Model: input size\tIn Model: input size  torch.Size([10, 5]) output size torch.Size([10, 5])torch.Size([10, 2])\n",
      "\tIn Model: input size output size torch.Size([10, 2])\n",
      " torch.Size([10, 5]) output size torch.Size([10, 2])\n",
      "Outside: input size torch.Size([30, 5]) output_size torch.Size([30, 2])\n",
      "\tIn Model: input size\tIn Model: input size torch.Size([10, 5]) output size torch.Size([10, 2])\n",
      " \tIn Model: input size torch.Size([10, 5])torch.Size([10, 5]) output size torch.Size([10, 2])\n",
      " output size torch.Size([10, 2])\n",
      "Outside: input size torch.Size([30, 5]) output_size torch.Size([30, 2])\n",
      "\tIn Model: input size\tIn Model: input size  \tIn Model: input sizetorch.Size([4, 5]) output size torch.Size([4, 2])\n",
      "torch.Size([4, 5])  output size torch.Size([4, 2])\n",
      "torch.Size([2, 5]) output size torch.Size([2, 2])\n",
      "Outside: input size torch.Size([10, 5]) output_size torch.Size([10, 2])\n"
     ]
    }
   ],
   "source": [
    "\n",
    "for data in rand_loader:\n",
    "    input = data.to(device)\n",
    "    output = model(input)\n",
    "    print(\"Outside: input size\", input.size(),\n",
    "          \"output_size\", output.size())"
   ]
  },
  {
   "cell_type": "code",
   "execution_count": null,
   "id": "706c9f4f",
   "metadata": {},
   "outputs": [],
   "source": []
  }
 ],
 "metadata": {
  "kernelspec": {
   "display_name": "Python 3",
   "language": "python",
   "name": "python3"
  },
  "language_info": {
   "codemirror_mode": {
    "name": "ipython",
    "version": 3
   },
   "file_extension": ".py",
   "mimetype": "text/x-python",
   "name": "python",
   "nbconvert_exporter": "python",
   "pygments_lexer": "ipython3",
   "version": "3.6.9"
  },
  "toc": {
   "base_numbering": 1,
   "nav_menu": {},
   "number_sections": true,
   "sideBar": true,
   "skip_h1_title": false,
   "title_cell": "Table of Contents",
   "title_sidebar": "Contents",
   "toc_cell": false,
   "toc_position": {},
   "toc_section_display": true,
   "toc_window_display": false
  }
 },
 "nbformat": 4,
 "nbformat_minor": 5
}
